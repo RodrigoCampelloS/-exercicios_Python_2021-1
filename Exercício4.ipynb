{
  "nbformat": 4,
  "nbformat_minor": 0,
  "metadata": {
    "colab": {
      "name": "Exercício4.ipynb",
      "provenance": [],
      "collapsed_sections": [],
      "authorship_tag": "ABX9TyNflRhi5mPQ9Hw9awT5+y/8",
      "include_colab_link": true
    },
    "kernelspec": {
      "name": "python3",
      "display_name": "Python 3"
    },
    "language_info": {
      "name": "python"
    }
  },
  "cells": [
    {
      "cell_type": "markdown",
      "metadata": {
        "id": "view-in-github",
        "colab_type": "text"
      },
      "source": [
        "<a href=\"https://colab.research.google.com/github/RodrigoCampelloS/-exercicios_Python_2021-1/blob/main/Exerc%C3%ADcio4.ipynb\" target=\"_parent\"><img src=\"https://colab.research.google.com/assets/colab-badge.svg\" alt=\"Open In Colab\"/></a>"
      ]
    },
    {
      "cell_type": "markdown",
      "metadata": {
        "id": "viVNY8MOHxw6"
      },
      "source": [
        "Exercício 4: Escreva uma função em Python que calcule a posição de um automóvel que está em movimento retilíneo uniforme, para\n",
        "um dado instante t"
      ]
    },
    {
      "cell_type": "code",
      "metadata": {
        "colab": {
          "base_uri": "https://localhost:8080/"
        },
        "id": "JkB9i1IWHuR4",
        "outputId": "ff8a79ae-b602-4d80-a65d-77fdd0ec355b"
      },
      "source": [
        "import math\n",
        "t=d=0.0\n",
        "print(\"Um carro passa do ponto 0 com uma velocidade constante de 10m/s , você quer saber a posição dele depois de quantos segundos?\") \n",
        "# como o exercício não especifica se é para o usuário inserir a velocidade do automovel, assumi a velocidade como 10 m/s\n",
        "t=float(input())\n",
        "d=10*t #calculando a distancia pela formula distancia = velocidade . tempo\n",
        "print(\"Após\",t,\"segundos o carro se encontra a\",d,\"metros de distancia do ponto 0\")"
      ],
      "execution_count": null,
      "outputs": [
        {
          "output_type": "stream",
          "text": [
            "Um carro passa do ponto 0 com uma velocidade constante de 10m/s , você quer saber a posição dele depois de quantos segundos?\n",
            "23\n",
            "Após 23.0 segundos o carro se encontra a 230.0 metros de distancia do ponto 0\n"
          ],
          "name": "stdout"
        }
      ]
    }
  ]
}