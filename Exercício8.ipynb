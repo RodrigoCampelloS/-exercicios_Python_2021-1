{
  "nbformat": 4,
  "nbformat_minor": 0,
  "metadata": {
    "colab": {
      "name": "Exercício8.ipynb",
      "provenance": [],
      "collapsed_sections": [],
      "authorship_tag": "ABX9TyNE7+FTV85ZF5WUVa+o0fN9",
      "include_colab_link": true
    },
    "kernelspec": {
      "name": "python3",
      "display_name": "Python 3"
    },
    "language_info": {
      "name": "python"
    }
  },
  "cells": [
    {
      "cell_type": "markdown",
      "metadata": {
        "id": "view-in-github",
        "colab_type": "text"
      },
      "source": [
        "<a href=\"https://colab.research.google.com/github/RodrigoCampelloS/-exercicios_Python_2021-1/blob/main/Exerc%C3%ADcio8.ipynb\" target=\"_parent\"><img src=\"https://colab.research.google.com/assets/colab-badge.svg\" alt=\"Open In Colab\"/></a>"
      ]
    },
    {
      "cell_type": "markdown",
      "metadata": {
        "id": "BObBDyfQWchV"
      },
      "source": [
        "Exercício 8: Remova todos os elementos duplicados da lista nomes = ['carlos', 'carlos', 'leonardo', 'carlos', 'roberto', 'maria', 'gabriela',\n",
        "2, 2, 2, 3, 3, 4, 'guilherme', 'gustavo'].\n"
      ]
    },
    {
      "cell_type": "code",
      "metadata": {
        "id": "XhYDJitMVsJk",
        "colab": {
          "base_uri": "https://localhost:8080/"
        },
        "outputId": "ba093430-1d18-45aa-d518-1c644b338b0a"
      },
      "source": [
        "nomes = ['carlos', 'carlos', 'leonardo', 'carlos', 'roberto', 'maria', 'gabriela', 2, 2, 2, 3, 3, 4, 'guilherme', 'gustavo']\n",
        "nomes=set(nomes) # tirando todos os elementos duplicados utilizando o método set()\n",
        "print(nomes)\n",
        "\n",
        "  "
      ],
      "execution_count": null,
      "outputs": [
        {
          "output_type": "stream",
          "text": [
            "{2, 3, 4, 'gabriela', 'maria', 'roberto', 'carlos', 'gustavo', 'leonardo', 'guilherme'}\n"
          ],
          "name": "stdout"
        }
      ]
    }
  ]
}