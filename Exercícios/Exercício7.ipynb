{
  "nbformat": 4,
  "nbformat_minor": 0,
  "metadata": {
    "colab": {
      "name": "Exercício7.ipynb",
      "provenance": [],
      "collapsed_sections": [],
      "authorship_tag": "ABX9TyMPff1u/72fq1V66kjePs9e",
      "include_colab_link": true
    },
    "kernelspec": {
      "name": "python3",
      "display_name": "Python 3"
    },
    "language_info": {
      "name": "python"
    }
  },
  "cells": [
    {
      "cell_type": "markdown",
      "metadata": {
        "id": "view-in-github",
        "colab_type": "text"
      },
      "source": [
        "<a href=\"https://colab.research.google.com/github/RodrigoCampelloS/-exercicios_Python_2021-1/blob/main/Exerc%C3%ADcio7.ipynb\" target=\"_parent\"><img src=\"https://colab.research.google.com/assets/colab-badge.svg\" alt=\"Open In Colab\"/></a>"
      ]
    },
    {
      "cell_type": "markdown",
      "metadata": {
        "id": "lr0GbGkKQ30z"
      },
      "source": [
        "Exercício 7: Remova todos os espaços em branco e coloque a primeira letra maiúscula da lista: nomes = [' marCELo', 'fabiana', '\n",
        "MArta ', 'ELIAS']."
      ]
    },
    {
      "cell_type": "code",
      "metadata": {
        "colab": {
          "base_uri": "https://localhost:8080/"
        },
        "id": "V6SJUILCQ19K",
        "outputId": "1483c376-9980-4e6b-a6a2-f3fa7f269c15"
      },
      "source": [
        "nomes = [' marCELo', 'fabiana', ' MArta ', 'ELIAS']\n",
        "i=0\n",
        "for x in nomes: # loop que percorrerá todos nomes dentro da lista nomes[]\n",
        "  x=x.strip() # tirando os espaços em branco\n",
        "  x=x.capitalize() # Deixando somente a primeira letra maiuscula\n",
        "  nomes[i]=x # devolvendo a entrada configurada corretamente para a lista \n",
        "  i+=1\n",
        "print(nomes)"
      ],
      "execution_count": 1,
      "outputs": [
        {
          "output_type": "stream",
          "name": "stdout",
          "text": [
            "['Marcelo', 'Fabiana', 'Marta', 'Elias']\n"
          ]
        }
      ]
    }
  ]
}
