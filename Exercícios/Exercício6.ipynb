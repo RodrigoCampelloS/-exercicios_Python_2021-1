{
  "nbformat": 4,
  "nbformat_minor": 0,
  "metadata": {
    "colab": {
      "name": "Exercício6.ipynb",
      "provenance": [],
      "collapsed_sections": [],
      "authorship_tag": "ABX9TyNMiCKryESJTcdiUCBaC/MM",
      "include_colab_link": true
    },
    "kernelspec": {
      "name": "python3",
      "display_name": "Python 3"
    },
    "language_info": {
      "name": "python"
    }
  },
  "cells": [
    {
      "cell_type": "markdown",
      "metadata": {
        "id": "view-in-github",
        "colab_type": "text"
      },
      "source": [
        "<a href=\"https://colab.research.google.com/github/RodrigoCampelloS/-exercicios_Python_2021-1/blob/main/Exerc%C3%ADcio6.ipynb\" target=\"_parent\"><img src=\"https://colab.research.google.com/assets/colab-badge.svg\" alt=\"Open In Colab\"/></a>"
      ]
    },
    {
      "cell_type": "markdown",
      "metadata": {
        "id": "JoiG3-OoKh8M"
      },
      "source": [
        "Exercício 6: Imprima os 100 primeiros números primos"
      ]
    },
    {
      "cell_type": "code",
      "metadata": {
        "colab": {
          "base_uri": "https://localhost:8080/"
        },
        "id": "295dyjWsKgOU",
        "outputId": "37f75f2d-4e87-4dbd-87f8-c5d9d9ef3099"
      },
      "source": [
        "import math\n",
        "n=d=2\n",
        "primo=1\n",
        "lista=[]\n",
        "\"\"\"\n",
        "O codigo consiste em, a partir do número 2(incluindo o 2 também), checar se o número n é divizivel por algum outro número entre ele mesmo e 1\n",
        "caso ele seja divizivel por qualquer número x que seja menor que o próprio número e maior que 1 ( ou seja n>x>1) sendo x e n inteiros, \n",
        "ele mudara a variável primo para falso, caso ele passe por todos os números entre n e 1, e não possua um divizor, a variavel primo será mantida como verdadeira\n",
        "e esse número n será adicionado a lista\n",
        "\"\"\"\n",
        "while (len(lista)<=99): # loop que só termina quando o 100º número primo for encontrado\n",
        "  while (d!=1): # loop que só termina quando todos os valores entre n a 1 forem testados como divisores \n",
        "    if (n%d==0 and n!=d):\n",
        "      primo=0 # tirando a possibilidade do número entrar na lista de primos \n",
        "    d=d-1\n",
        "  if (primo): # adicionando o número a lista de primos caso if dentro do while não tenha sido ativado\n",
        "    lista.append(n)\n",
        "  n=n+1  #Iniciando proximo número\n",
        "  d=n    #igualando número com o divizor\n",
        "  primo=1 # resetando primo novamente\n",
        "print(lista)\n",
        "print(\"Acima temos os\",len(lista),\"primeiros números primos.\")\n",
        "\n",
        "  "
      ],
      "execution_count": null,
      "outputs": [
        {
          "output_type": "stream",
          "text": [
            "[2, 3, 5, 7, 11, 13, 17, 19, 23, 29, 31, 37, 41, 43, 47, 53, 59, 61, 67, 71, 73, 79, 83, 89, 97, 101, 103, 107, 109, 113, 127, 131, 137, 139, 149, 151, 157, 163, 167, 173, 179, 181, 191, 193, 197, 199, 211, 223, 227, 229, 233, 239, 241, 251, 257, 263, 269, 271, 277, 281, 283, 293, 307, 311, 313, 317, 331, 337, 347, 349, 353, 359, 367, 373, 379, 383, 389, 397, 401, 409, 419, 421, 431, 433, 439, 443, 449, 457, 461, 463, 467, 479, 487, 491, 499, 503, 509, 521, 523, 541]\n",
            "Acima temos os 100 primeiros números primos\n"
          ],
          "name": "stdout"
        }
      ]
    }
  ]
}
