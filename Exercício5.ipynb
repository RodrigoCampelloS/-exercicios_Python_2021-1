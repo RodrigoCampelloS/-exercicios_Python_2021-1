{
  "nbformat": 4,
  "nbformat_minor": 0,
  "metadata": {
    "colab": {
      "name": "Exercício5.ipynb",
      "provenance": [],
      "collapsed_sections": [],
      "authorship_tag": "ABX9TyOByV4vPYjG/fYAuQ5VF8R6",
      "include_colab_link": true
    },
    "kernelspec": {
      "name": "python3",
      "display_name": "Python 3"
    },
    "language_info": {
      "name": "python"
    }
  },
  "cells": [
    {
      "cell_type": "markdown",
      "metadata": {
        "id": "view-in-github",
        "colab_type": "text"
      },
      "source": [
        "<a href=\"https://colab.research.google.com/github/RodrigoCampelloS/-exercicios_Python_2021-1/blob/main/Exerc%C3%ADcio5.ipynb\" target=\"_parent\"><img src=\"https://colab.research.google.com/assets/colab-badge.svg\" alt=\"Open In Colab\"/></a>"
      ]
    },
    {
      "cell_type": "markdown",
      "metadata": {
        "id": "yO8zwy4aJbJq"
      },
      "source": [
        "Exercício 5: Pergunte ao usuário por uma string e cheque se a letra ‘s’ está contida nela.\n"
      ]
    },
    {
      "cell_type": "code",
      "metadata": {
        "colab": {
          "base_uri": "https://localhost:8080/"
        },
        "id": "izqKRDcUJWZj",
        "outputId": "b5920b63-a094-4c2c-f9f1-e2dc912f0b9c"
      },
      "source": [
        "frase=\"\"\n",
        "print(\"Digite a frase para saber se a letra 's' está contida nela\")\n",
        "frase=input()\n",
        "if('s' in frase): #verificando se a letra \"S\" está dentro da string frase\n",
        "  print(\"A frase possui a letra 's'\")\n",
        "else:\n",
        "  print(\"A frase não possui a letra 's'\")"
      ],
      "execution_count": null,
      "outputs": [
        {
          "output_type": "stream",
          "text": [
            "Digite a frase para saber se a letra 's' está contida nela\n",
            "O rato roeu a roupa de Newton\n",
            "A frase não possui a letra 's'\n"
          ],
          "name": "stdout"
        }
      ]
    }
  ]
}