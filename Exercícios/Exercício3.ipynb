{
  "nbformat": 4,
  "nbformat_minor": 0,
  "metadata": {
    "colab": {
      "name": "Exercício3.ipynb",
      "provenance": [],
      "collapsed_sections": [],
      "authorship_tag": "ABX9TyOboF0sqiGQKQRc1z8DHe01",
      "include_colab_link": true
    },
    "kernelspec": {
      "name": "python3",
      "display_name": "Python 3"
    },
    "language_info": {
      "name": "python"
    }
  },
  "cells": [
    {
      "cell_type": "markdown",
      "metadata": {
        "id": "view-in-github",
        "colab_type": "text"
      },
      "source": [
        "<a href=\"https://colab.research.google.com/github/RodrigoCampelloS/-exercicios_Python_2021-1/blob/main/Exerc%C3%ADcio3.ipynb\" target=\"_parent\"><img src=\"https://colab.research.google.com/assets/colab-badge.svg\" alt=\"Open In Colab\"/></a>"
      ]
    },
    {
      "cell_type": "markdown",
      "metadata": {
        "id": "5ko28W7QGtTi"
      },
      "source": [
        "Exercício 3: Determine se um número de entrada é par ou ímpar.\n"
      ]
    },
    {
      "cell_type": "code",
      "metadata": {
        "colab": {
          "base_uri": "https://localhost:8080/"
        },
        "id": "mWc-csiLGaRw",
        "outputId": "be75e961-44a2-40c5-e874-0f1c6da77299"
      },
      "source": [
        "import math\n",
        "\n",
        "num=0\n",
        "print(\"Digite um número inteiro\")\n",
        "num=input(num)\n",
        "if (int(num)%2==0): #verificando se o resto da divisão por 2 do número digitado é 1 ou 0, caso seja 0 é par, caso seja 1 é impar\n",
        "  print(\"O número\",num,\"é par\")\n",
        "else:\n",
        "  print(\"O número\",num,\"é impar\")"
      ],
      "execution_count": null,
      "outputs": [
        {
          "output_type": "stream",
          "text": [
            "Digite um número inteiro\n",
            "0\n",
            "O número 0 é par\n"
          ],
          "name": "stdout"
        }
      ]
    }
  ]
}
