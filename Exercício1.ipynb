{
  "nbformat": 4,
  "nbformat_minor": 0,
  "metadata": {
    "colab": {
      "name": "Exercício1.ipynb",
      "provenance": [],
      "collapsed_sections": [],
      "authorship_tag": "ABX9TyMeHQez/wETDOxkn0FQ5rZQ",
      "include_colab_link": true
    },
    "kernelspec": {
      "name": "python3",
      "display_name": "Python 3"
    },
    "language_info": {
      "name": "python"
    }
  },
  "cells": [
    {
      "cell_type": "markdown",
      "metadata": {
        "id": "view-in-github",
        "colab_type": "text"
      },
      "source": [
        "<a href=\"https://colab.research.google.com/github/RodrigoCampelloS/-exercicios_Python_2021-1/blob/main/Exerc%C3%ADcio1.ipynb\" target=\"_parent\"><img src=\"https://colab.research.google.com/assets/colab-badge.svg\" alt=\"Open In Colab\"/></a>"
      ]
    },
    {
      "cell_type": "markdown",
      "metadata": {
        "id": "T8jeWM4Fohi4"
      },
      "source": [
        "Exercício 1: Receba a temperatura em Celsius como entrada, e como saída, dê a temperatura em Fahrenheit.\n",
        "\n"
      ]
    },
    {
      "cell_type": "code",
      "metadata": {
        "id": "gynwpqjMolve",
        "colab": {
          "base_uri": "https://localhost:8080/"
        },
        "outputId": "74397dda-0cd2-45f7-ac77-c8e65f805261"
      },
      "source": [
        "import math\n",
        "t_celsius=0.0\n",
        "print(\"Digite a temperatura em Celsius\")\n",
        "t_celsius=float(input()) #adquirindo o valor da temperatura em celsius\n",
        "t_celsius=(t_celsius*1.8)+32 #fazendo a mudança de celsius para fahrenheit\n",
        "print(\"A temperatura dada em Celsius equivale a \" +str(round(t_celsius,2)) +\" °F\")\n"
      ],
      "execution_count": null,
      "outputs": [
        {
          "output_type": "stream",
          "text": [
            "Digite a temperatura em Celsius\n",
            "100\n",
            "A temperatura dada em Celsius equivale a 212.0 °F\n"
          ],
          "name": "stdout"
        }
      ]
    }
  ]
}