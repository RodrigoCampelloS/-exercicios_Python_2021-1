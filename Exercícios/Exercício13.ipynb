{
  "nbformat": 4,
  "nbformat_minor": 0,
  "metadata": {
    "colab": {
      "name": "Exercício13.ipynb",
      "provenance": [],
      "collapsed_sections": []
    },
    "kernelspec": {
      "name": "python3",
      "display_name": "Python 3"
    },
    "language_info": {
      "name": "python"
    }
  },
  "cells": [
    {
      "cell_type": "markdown",
      "metadata": {
        "id": "c04zpDF2sy-w"
      },
      "source": [
        "Exercício 13: Use a função reduce junto com uma lambda para multiplicar os números de uma lista."
      ]
    },
    {
      "cell_type": "code",
      "metadata": {
        "colab": {
          "base_uri": "https://localhost:8080/"
        },
        "id": "dcjKl-OAsxXZ",
        "outputId": "d5fc491d-b9c1-45c4-9978-5531c8cdfc3c"
      },
      "source": [
        "import functools\n",
        "lista =[1,1,2,3,5,8,13,21]\n",
        "\n",
        "\n",
        "print(functools.reduce(lambda x,y: x*y, lista)) # utilizando reduce com lambda para multiplicar os números da lista"
      ],
      "execution_count": null,
      "outputs": [
        {
          "output_type": "stream",
          "text": [
            "65520\n"
          ],
          "name": "stdout"
        }
      ]
    }
  ]
}