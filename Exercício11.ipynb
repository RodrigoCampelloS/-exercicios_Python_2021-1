{
  "nbformat": 4,
  "nbformat_minor": 0,
  "metadata": {
    "colab": {
      "name": "Exercício11.ipynb",
      "provenance": [],
      "collapsed_sections": [],
      "authorship_tag": "ABX9TyMVLhLSPmjLKx4/4o1CEjoG",
      "include_colab_link": true
    },
    "kernelspec": {
      "name": "python3",
      "display_name": "Python 3"
    },
    "language_info": {
      "name": "python"
    }
  },
  "cells": [
    {
      "cell_type": "markdown",
      "metadata": {
        "id": "view-in-github",
        "colab_type": "text"
      },
      "source": [
        "<a href=\"https://colab.research.google.com/github/RodrigoCampelloS/-exercicios_Python_2021-1/blob/main/Exerc%C3%ADcio11.ipynb\" target=\"_parent\"><img src=\"https://colab.research.google.com/assets/colab-badge.svg\" alt=\"Open In Colab\"/></a>"
      ]
    },
    {
      "cell_type": "markdown",
      "metadata": {
        "id": "pQdcVjLQqOag"
      },
      "source": [
        " Exercício 11: Crie uma função que printe todas os pares de chaves e valores com o .format(). Use o dicionário pessoas = { 'Marcelo':\n",
        "'azul', 'Lilian': 'marrom', 'Bruna': 'azul', 'Leandro': 'marrom', 'Tadeu': 'verde'}, o output deverá ser: Output should be:\n",
        "Marcelo tem olhos azul, Lilian tem olhos marrom, Bruna tem olhos azul, Leandro tem olhos marrom, Tadeu tem olhos\n",
        "verde. \n"
      ]
    },
    {
      "cell_type": "code",
      "metadata": {
        "colab": {
          "base_uri": "https://localhost:8080/"
        },
        "id": "Jb2A6_wOkmr7",
        "outputId": "d7d32e18-81c8-4de6-9103-a1fa2e54eb35"
      },
      "source": [
        "pessoas = { 'Marcelo': 'azul', 'Lilian': 'marrom', 'Bruna': 'azul', 'Leandro': 'marrom', 'Tadeu': 'verde'}\n",
        "\n",
        "def formatar(dic1):\n",
        "  chaves=list(dic1.keys()) # pegando a lista de chaves\n",
        "  for x in range(0,len((chaves))):\n",
        "    txt=\"{0} tem olhos {1}\" # Preparando a frase na qual será usada o format()\n",
        "    print(txt.format(chaves[x],dic1[chaves[x]])) # Utilizando o format na frase txt com os parametros da chave do dicionario e o valor correspondente a chave respectivamente\n",
        "\n",
        "formatar(pessoas)\n"
      ],
      "execution_count": null,
      "outputs": [
        {
          "output_type": "stream",
          "text": [
            "Marcelo tem olhos azul\n",
            "Lilian tem olhos marrom\n",
            "Bruna tem olhos azul\n",
            "Leandro tem olhos marrom\n",
            "Tadeu tem olhos verde\n"
          ],
          "name": "stdout"
        }
      ]
    }
  ]
}