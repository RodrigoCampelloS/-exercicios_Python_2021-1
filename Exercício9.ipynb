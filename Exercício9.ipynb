{
  "nbformat": 4,
  "nbformat_minor": 0,
  "metadata": {
    "colab": {
      "name": "Exercício9.ipynb",
      "provenance": [],
      "collapsed_sections": [],
      "authorship_tag": "ABX9TyPGqYoTBX+ylizLIIUVw7UJ",
      "include_colab_link": true
    },
    "kernelspec": {
      "name": "python3",
      "display_name": "Python 3"
    },
    "language_info": {
      "name": "python"
    }
  },
  "cells": [
    {
      "cell_type": "markdown",
      "metadata": {
        "id": "view-in-github",
        "colab_type": "text"
      },
      "source": [
        "<a href=\"https://colab.research.google.com/github/RodrigoCampelloS/-exercicios_Python_2021-1/blob/main/Exerc%C3%ADcio9.ipynb\" target=\"_parent\"><img src=\"https://colab.research.google.com/assets/colab-badge.svg\" alt=\"Open In Colab\"/></a>"
      ]
    },
    {
      "cell_type": "markdown",
      "metadata": {
        "id": "ctR4L9QzdibN"
      },
      "source": [
        "Escreva uma função que faça um loop sobre a lista primeiro_nome e a lista ultimo_nome, combine as duas e retorne\n",
        "uma lista como nome completo. primeiro_nome = ['Pedro', 'Patricia', 'Lilian', 'Monica'] e ultimo_nome = ['Machado',\n",
        "'Oliveira', 'Silva', 'Nunes'].\n"
      ]
    },
    {
      "cell_type": "code",
      "metadata": {
        "colab": {
          "base_uri": "https://localhost:8080/"
        },
        "id": "0fp08WKIdgkX",
        "outputId": "2033433a-7771-42ee-c42f-655b6bdf59ef"
      },
      "source": [
        "primeiro_nome = ['Pedro', 'Patricia', 'Lilian', 'Monica']\n",
        "ultimo_nome = ['Machado', 'Oliveira', 'Silva', 'Nunes']\n",
        "\n",
        "def combinarNomes(list1,list2):\n",
        "  nome_completo = [] # criando lista com nome completo\n",
        "  for x in range(0,len((list1))):\n",
        "    nome = list1[x]+\" \"+list2[x] # concatenando o nome da list1(primeiro nome) com o da list2 (ultimo nome)\n",
        "    nome_completo.append(nome) # adicionando o novo nome completo à lista de nomes completos\n",
        "  return nome_completo  \n",
        "\n",
        "print(combinarNomes(primeiro_nome,ultimo_nome)) #printando o resultado da função combinarNomes"
      ],
      "execution_count": null,
      "outputs": [
        {
          "output_type": "stream",
          "text": [
            "['Pedro Machado', 'Patricia Oliveira', 'Lilian Silva', 'Monica Nunes']\n"
          ],
          "name": "stdout"
        }
      ]
    }
  ]
}