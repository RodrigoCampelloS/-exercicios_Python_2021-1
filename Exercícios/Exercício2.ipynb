{
  "nbformat": 4,
  "nbformat_minor": 0,
  "metadata": {
    "colab": {
      "name": "Exercício2.ipynb",
      "provenance": [],
      "collapsed_sections": [],
      "authorship_tag": "ABX9TyMXR8M+/Li/hU6jJetulSxM",
      "include_colab_link": true
    },
    "kernelspec": {
      "name": "python3",
      "display_name": "Python 3"
    },
    "language_info": {
      "name": "python"
    }
  },
  "cells": [
    {
      "cell_type": "markdown",
      "metadata": {
        "id": "view-in-github",
        "colab_type": "text"
      },
      "source": [
        "<a href=\"https://colab.research.google.com/github/RodrigoCampelloS/-exercicios_Python_2021-1/blob/main/Exerc%C3%ADcio2.ipynb\" target=\"_parent\"><img src=\"https://colab.research.google.com/assets/colab-badge.svg\" alt=\"Open In Colab\"/></a>"
      ]
    },
    {
      "cell_type": "markdown",
      "metadata": {
        "id": "qkwSQmbqxoDi"
      },
      "source": [
        "Exercício 2: Calcule as raízes da equação de segundo grau, tendo como entrada os valores de a, b e c. Não se esqueça de incluir os\n",
        "casos em que a=0, delta > 0, delta = 0 e delta < 0.\n"
      ]
    },
    {
      "cell_type": "code",
      "metadata": {
        "colab": {
          "base_uri": "https://localhost:8080/"
        },
        "id": "gxkKJ4WY226c",
        "outputId": "8f51bd9a-dc68-4f8e-ab28-530624521292"
      },
      "source": [
        "import math\n",
        "a=b=c=r1=r2=delta=0.0 #iniciando as variaveis\n",
        "print(\"Digite o valor de a:\")\n",
        "a=float(input()) \n",
        "while (a==0): #loop para retirar os casos onde a=0\n",
        "  print(\"O valor de 'a' não pode ser 0, digite novamente\")\n",
        "  a=float(input())  \n",
        "print(\"Digite o valor de b:\")\n",
        "b=float(input())\n",
        "print(\"Digite o valor de c:\")\n",
        "c=float(input())\n",
        "delta=b**2-(4*a*c) # calculando delta\n",
        "if (delta<0): #separando o caso onde delta<0\n",
        "  print(\"Não existem raizes reais para essa equação\")\n",
        "elif (delta==0): #separando o caso onde delta = 0\n",
        "  r1=-b/(2*a)\n",
        "  print(\"A equação possui uma unica solução : \",r1)\n",
        "else: #separando o caso onde delta > 0\n",
        "  r1=(-b+math.sqrt(delta))/(2*a)\n",
        "  r2=(-b-math.sqrt(delta))/(2*a)\n",
        "  print(\"A equação possui duas raizes :\",r1,\" \",r2)"
      ],
      "execution_count": null,
      "outputs": [
        {
          "output_type": "stream",
          "text": [
            "Digite o valor de a:\n",
            "2\n",
            "Digite o valor de b:\n",
            "321002\n",
            "Digite o valor de c:\n",
            "2\n",
            "A equação possui duas raizes : -6.230489816516638e-06   -160500.9999937695\n"
          ],
          "name": "stdout"
        }
      ]
    }
  ]
}
