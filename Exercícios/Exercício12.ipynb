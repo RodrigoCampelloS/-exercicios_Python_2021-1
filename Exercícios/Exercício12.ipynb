{
  "nbformat": 4,
  "nbformat_minor": 0,
  "metadata": {
    "colab": {
      "name": "Exercício12.ipynb",
      "provenance": [],
      "collapsed_sections": [],
      "authorship_tag": "ABX9TyPeDES29tXZCSSGZ5DSe1zj",
      "include_colab_link": true
    },
    "kernelspec": {
      "name": "python3",
      "display_name": "Python 3"
    },
    "language_info": {
      "name": "python"
    }
  },
  "cells": [
    {
      "cell_type": "markdown",
      "metadata": {
        "id": "view-in-github",
        "colab_type": "text"
      },
      "source": [
        "<a href=\"https://colab.research.google.com/github/RodrigoCampelloS/-exercicios_Python_2021-1/blob/main/Exerc%C3%ADcio12.ipynb\" target=\"_parent\"><img src=\"https://colab.research.google.com/assets/colab-badge.svg\" alt=\"Open In Colab\"/></a>"
      ]
    },
    {
      "cell_type": "markdown",
      "metadata": {
        "id": "wGM6g24uqp3B"
      },
      "source": [
        "Exercício 12: Usando a função map e função lambda, crie uma função que duplique e subtraia 1 dos elementos de uma lista.\n"
      ]
    },
    {
      "cell_type": "code",
      "metadata": {
        "colab": {
          "base_uri": "https://localhost:8080/"
        },
        "id": "skMjjJz0qmdj",
        "outputId": "86c42cee-ac6c-4d14-8816-b242e66ab5fe"
      },
      "source": [
        "lista =[0,1,1,2,3,5,8,13,21]\n",
        "\n",
        "def func(list1):\n",
        "  return list(map(lambda num: (num*2)-1,list1)) #utilizando o map e lambda para duplicar e subtrair 1\n",
        "\n",
        "print(func(lista))"
      ],
      "execution_count": null,
      "outputs": [
        {
          "output_type": "stream",
          "text": [
            "[-1, 1, 1, 3, 5, 9, 15, 25, 41]\n"
          ],
          "name": "stdout"
        }
      ]
    }
  ]
}
