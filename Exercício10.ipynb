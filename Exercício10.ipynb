{
  "nbformat": 4,
  "nbformat_minor": 0,
  "metadata": {
    "colab": {
      "name": "Exercício10.ipynb",
      "provenance": [],
      "collapsed_sections": [],
      "authorship_tag": "ABX9TyPdPMNc/rYt54LZu2EvFTrs",
      "include_colab_link": true
    },
    "kernelspec": {
      "name": "python3",
      "display_name": "Python 3"
    },
    "language_info": {
      "name": "python"
    }
  },
  "cells": [
    {
      "cell_type": "markdown",
      "metadata": {
        "id": "view-in-github",
        "colab_type": "text"
      },
      "source": [
        "<a href=\"https://colab.research.google.com/github/RodrigoCampelloS/-exercicios_Python_2021-1/blob/main/Exerc%C3%ADcio10.ipynb\" target=\"_parent\"><img src=\"https://colab.research.google.com/assets/colab-badge.svg\" alt=\"Open In Colab\"/></a>"
      ]
    },
    {
      "cell_type": "markdown",
      "metadata": {
        "id": "naLj8Pi-gqsP"
      },
      "source": [
        "Exercício 10: Dada um lista como entrada, escreva uma função que retorne uma lista com os números menores que 10. Por exemplo;\n",
        "se a lista de entrada for [1,12,13,6,7,9] a saída deverá ser [1,6,7,9].\n"
      ]
    },
    {
      "cell_type": "code",
      "metadata": {
        "colab": {
          "base_uri": "https://localhost:8080/"
        },
        "id": "4Spg5sOsgluY",
        "outputId": "113c3ffc-2609-4bb4-d3ba-e4179098a0a1"
      },
      "source": [
        "lista=[]\n",
        "n=0\n",
        "print(\"Quantos números possui a lista?\")\n",
        "n=int(input()) # pegando quantos números a lista possui\n",
        "for x in range(0,n):\n",
        "  num=float(input()) # pegando o número desejado\n",
        "  lista.append(num) # adicionando o número à lista\n",
        "def lista_menor_de_dez(list1):\n",
        "  nova_lista=[] # criando a nova lista com os números menores que 10\n",
        "  for y in range(0,len((list1))): # loop para todos os números da lista\n",
        "    if (float(list1[y])<10): # verificando se o número é menor que 10\n",
        "      nova_lista.append(list1[y]) # adicionando o número à nova lista caso seja menor que 10\n",
        "  return nova_lista\n",
        "print(lista_menor_de_dez(lista))\n",
        "\n"
      ],
      "execution_count": 1,
      "outputs": [
        {
          "output_type": "stream",
          "name": "stdout",
          "text": [
            "Quantos números possui a lista?\n",
            "6\n",
            "80\n",
            "-2\n",
            "0\n",
            "52\n",
            "10\n",
            "10.5\n",
            "[-2.0, 0.0]\n"
          ]
        }
      ]
    }
  ]
}